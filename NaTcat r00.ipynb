{
 "cells": [
  {
   "cell_type": "markdown",
   "id": "77beca32-9e0f-4efb-bb22-f419f6c1b828",
   "metadata": {},
   "source": [
    "## A comparative analysis on MS and GEM data-sets: Colombia, Ecuador and Chile"
   ]
  },
  {
   "cell_type": "code",
   "execution_count": 33,
   "id": "50531606-9ef6-4a6d-9050-44fe13821113",
   "metadata": {},
   "outputs": [],
   "source": [
    "import pandas as pd\n",
    "import geopandas as gpd\n",
    "from shapely.geometry import Polygon\n",
    "\n",
    "import requests\n",
    "import zipfile\n",
    "import os\n",
    "import json\n",
    "from shapely.geometry import shape\n",
    "from shapely.geometry import Polygon\n",
    "\n",
    "from pyproj import CRS\n",
    "import matplotlib.pyplot as plt\n",
    "import seaborn as sns\n",
    "import numpy as np\n",
    "import folium"
   ]
  },
  {
   "cell_type": "markdown",
   "id": "3f4f1d76-5d2f-4924-93dc-25825b824cc5",
   "metadata": {},
   "source": [
    "## Step 1. Get the country name from user\n"
   ]
  },
  {
   "cell_type": "code",
   "execution_count": 34,
   "id": "24af1abb-0d9e-4bcf-bfb9-4ef2193e8fd4",
   "metadata": {},
   "outputs": [
    {
     "name": "stdin",
     "output_type": "stream",
     "text": [
      "Enter the name of the country:  Chile\n"
     ]
    }
   ],
   "source": [
    "country_name = input(\"Enter the name of the country: \")\n"
   ]
  },
  {
   "cell_type": "code",
   "execution_count": 35,
   "id": "55116419-1b8f-4bc6-a265-693fa8a0a93b",
   "metadata": {},
   "outputs": [
    {
     "data": {
      "text/plain": [
       "'E:/2023/Natcat/Chile.geojsonl'"
      ]
     },
     "execution_count": 35,
     "metadata": {},
     "output_type": "execute_result"
    }
   ],
   "source": [
    "# creates file path \n",
    "\n",
    "file_name = f\"{country_name}.geojsonl\"\n",
    "base_dir =\"E:/2023/Natcat/\"\n",
    "\n",
    "geojsonl_file_path = os.path.join(base_dir, f\"{country_name}.geojsonl\")\n",
    "geojsonl_file_path"
   ]
  },
  {
   "cell_type": "markdown",
   "id": "bf45c53c-7a9f-461c-bbc6-caf3849ba0e4",
   "metadata": {},
   "source": [
    "## Step 2. Open the file and read its content line by line\n",
    "The data type is JSON which is more suitable for unstructured data like the one we have in this project"
   ]
  },
  {
   "cell_type": "code",
   "execution_count": 36,
   "id": "76f03c52-fa38-4394-987f-ca61fa90a70e",
   "metadata": {},
   "outputs": [],
   "source": [
    "with open(geojsonl_file_path, 'r', encoding='utf-8') as file:\n",
    "    lines = file.readlines()"
   ]
  },
  {
   "cell_type": "markdown",
   "id": "02939abf-f855-4bb2-bfb8-05c9a2ea901d",
   "metadata": {},
   "source": [
    "The following line is used to read a JSON Lines (JSONL) file and convert its contents into a list of JSON objects (Python dictionaries). "
   ]
  },
  {
   "cell_type": "code",
   "execution_count": 37,
   "id": "8d5c5aaa-5785-46c9-acd8-308a0860baa6",
   "metadata": {},
   "outputs": [],
   "source": [
    "json_data = [json.loads(line) for line in lines]"
   ]
  },
  {
   "cell_type": "markdown",
   "id": "2633e58f-d859-4741-b2a8-65f788e82585",
   "metadata": {},
   "source": [
    "## Step 3. Convert JSON objects to Pandas df\n",
    "is useful for turning complex JSON data structures into a more tabular form that can be easily analyzed and manipulated using Pandas.\n",
    "Obviously the df contains two columns type as being Polygon and Coordinates. In the next steps I delve into the data set and explore it. "
   ]
  },
  {
   "cell_type": "code",
   "execution_count": 38,
   "id": "e91a2657-a1a7-41df-8e0b-9ed602548a89",
   "metadata": {
    "scrolled": true
   },
   "outputs": [
    {
     "data": {
      "text/html": [
       "<div>\n",
       "<style scoped>\n",
       "    .dataframe tbody tr th:only-of-type {\n",
       "        vertical-align: middle;\n",
       "    }\n",
       "\n",
       "    .dataframe tbody tr th {\n",
       "        vertical-align: top;\n",
       "    }\n",
       "\n",
       "    .dataframe thead th {\n",
       "        text-align: right;\n",
       "    }\n",
       "</style>\n",
       "<table border=\"1\" class=\"dataframe\">\n",
       "  <thead>\n",
       "    <tr style=\"text-align: right;\">\n",
       "      <th></th>\n",
       "      <th>type</th>\n",
       "      <th>coordinates</th>\n",
       "    </tr>\n",
       "  </thead>\n",
       "  <tbody>\n",
       "    <tr>\n",
       "      <th>0</th>\n",
       "      <td>Polygon</td>\n",
       "      <td>[[[-71.19338272520449, -34.65094635030333], [-...</td>\n",
       "    </tr>\n",
       "    <tr>\n",
       "      <th>1</th>\n",
       "      <td>Polygon</td>\n",
       "      <td>[[[-71.19872174402884, -34.91531312309422], [-...</td>\n",
       "    </tr>\n",
       "    <tr>\n",
       "      <th>2</th>\n",
       "      <td>Polygon</td>\n",
       "      <td>[[[-71.22548658231268, -32.83440017652967], [-...</td>\n",
       "    </tr>\n",
       "  </tbody>\n",
       "</table>\n",
       "</div>"
      ],
      "text/plain": [
       "      type                                        coordinates\n",
       "0  Polygon  [[[-71.19338272520449, -34.65094635030333], [-...\n",
       "1  Polygon  [[[-71.19872174402884, -34.91531312309422], [-...\n",
       "2  Polygon  [[[-71.22548658231268, -32.83440017652967], [-..."
      ]
     },
     "execution_count": 38,
     "metadata": {},
     "output_type": "execute_result"
    }
   ],
   "source": [
    "df = pd.json_normalize(json_data)\n",
    "df.head(3)"
   ]
  },
  {
   "cell_type": "markdown",
   "id": "0129e7f0-54a3-4586-94c1-2247d0d740e4",
   "metadata": {},
   "source": [
    "## Step 4. Exploring the df\n",
    "Shape (size of df), number of unique entries (nunique) and so on"
   ]
  },
  {
   "cell_type": "code",
   "execution_count": 39,
   "id": "5dc73c41-ad41-446a-8f72-e8633944020d",
   "metadata": {},
   "outputs": [
    {
     "data": {
      "text/html": [
       "<div>\n",
       "<style scoped>\n",
       "    .dataframe tbody tr th:only-of-type {\n",
       "        vertical-align: middle;\n",
       "    }\n",
       "\n",
       "    .dataframe tbody tr th {\n",
       "        vertical-align: top;\n",
       "    }\n",
       "\n",
       "    .dataframe thead th {\n",
       "        text-align: right;\n",
       "    }\n",
       "</style>\n",
       "<table border=\"1\" class=\"dataframe\">\n",
       "  <thead>\n",
       "    <tr style=\"text-align: right;\">\n",
       "      <th></th>\n",
       "      <th>type</th>\n",
       "      <th>coordinates</th>\n",
       "    </tr>\n",
       "  </thead>\n",
       "  <tbody>\n",
       "    <tr>\n",
       "      <th>2208741</th>\n",
       "      <td>Polygon</td>\n",
       "      <td>[[[-70.65258587707828, -33.39474639761417], [-...</td>\n",
       "    </tr>\n",
       "    <tr>\n",
       "      <th>2208742</th>\n",
       "      <td>Polygon</td>\n",
       "      <td>[[[-70.6532105131193, -33.18350083204412], [-7...</td>\n",
       "    </tr>\n",
       "    <tr>\n",
       "      <th>2208743</th>\n",
       "      <td>Polygon</td>\n",
       "      <td>[[[-70.6525620789975, -33.96395179478972], [-7...</td>\n",
       "    </tr>\n",
       "  </tbody>\n",
       "</table>\n",
       "</div>"
      ],
      "text/plain": [
       "            type                                        coordinates\n",
       "2208741  Polygon  [[[-70.65258587707828, -33.39474639761417], [-...\n",
       "2208742  Polygon  [[[-70.6532105131193, -33.18350083204412], [-7...\n",
       "2208743  Polygon  [[[-70.6525620789975, -33.96395179478972], [-7..."
      ]
     },
     "execution_count": 39,
     "metadata": {},
     "output_type": "execute_result"
    }
   ],
   "source": [
    "df.tail(3)"
   ]
  },
  {
   "cell_type": "code",
   "execution_count": 40,
   "id": "98c759c0-7617-4e4a-9106-b178a626177c",
   "metadata": {},
   "outputs": [
    {
     "data": {
      "text/plain": [
       "(2208744, 2)"
      ]
     },
     "execution_count": 40,
     "metadata": {},
     "output_type": "execute_result"
    }
   ],
   "source": [
    "df.shape"
   ]
  },
  {
   "cell_type": "markdown",
   "id": "6920d04b-ce56-47ef-a14f-d9ccd6875847",
   "metadata": {},
   "source": [
    "**Now checking if duplicates exist in data frame!**"
   ]
  },
  {
   "cell_type": "markdown",
   "id": "20e89758-6edd-44bb-817d-ec433078db4f",
   "metadata": {},
   "source": [
    "The elements in the coordinates column are lists, which are mutable and therefore unhashable. The nunique function tries to use the elements of the column as keys in a dictionary (to count unique elements), but lists cannot be used as dictionary keys due to their unhashable nature. To work around this, I have converted the lists to tuples (which are immutable and hashable) before applying the nunique method."
   ]
  },
  {
   "cell_type": "code",
   "execution_count": null,
   "id": "022cfd83-89df-4d70-82f4-6039093bdb9c",
   "metadata": {},
   "outputs": [],
   "source": [
    "def convert_to_tuple(item):\n",
    "    if isinstance(item, list):\n",
    "        return tuple(convert_to_tuple(sub_item) for sub_item in item)\n",
    "    return item\n",
    "    \n",
    "df['coordinates_tuple'] = df['coordinates'].apply(convert_to_tuple)"
   ]
  },
  {
   "cell_type": "code",
   "execution_count": null,
   "id": "67ac20b7-1d7f-4a23-8214-60377e8c1d10",
   "metadata": {},
   "outputs": [],
   "source": [
    "df['coordinates_tuple'].nunique()"
   ]
  },
  {
   "cell_type": "markdown",
   "id": "12140b22-44e2-416a-8cf4-9b17483e27b9",
   "metadata": {},
   "source": [
    "## Step 5. Converting coordinates to Polygons and getting areas\n",
    "The generated Polygons are stored in a new column called 'geometry' in the data-frame. \n",
    "The coordinates transformed to UTM and areas calculated.\n",
    "Coordinate Representation: Geographic coordinates (WGS84) use angles (degrees) to represent positions on a spherical surface.\n",
    "Projected coordinates (UTM) use Cartesian coordinates (easting and northing) to represent positions on a flat surface."
   ]
  },
  {
   "cell_type": "code",
   "execution_count": 41,
   "id": "4d5cf7ea-d840-4e66-821a-980b81aaee42",
   "metadata": {},
   "outputs": [],
   "source": [
    "# Convert coordinates to Polygon objects\n",
    "df['geometry'] = df['coordinates'].apply(lambda x: Polygon(x[0]))\n",
    "\n",
    "# Create a GeoDataFrame\n",
    "gdf = gpd.GeoDataFrame(df, geometry='geometry')\n"
   ]
  },
  {
   "cell_type": "code",
   "execution_count": 42,
   "id": "c7924653-338d-4827-b13c-a0414797b6bf",
   "metadata": {},
   "outputs": [
    {
     "name": "stdout",
     "output_type": "stream",
     "text": [
      "Current CRS: None\n"
     ]
    }
   ],
   "source": [
    "# Print current CRS (should be EPSG:4326)\n",
    "print(\"Current CRS:\", gdf.crs)\n",
    "if gdf.crs is None:\n",
    "    gdf.crs = 'EPSG:4326'  # Set CRS to WGS84"
   ]
  },
  {
   "cell_type": "code",
   "execution_count": 43,
   "id": "087a313e-d811-4443-889e-23580bcf31a7",
   "metadata": {},
   "outputs": [
    {
     "name": "stdout",
     "output_type": "stream",
     "text": [
      "updated CRS is changed to UTM!\n"
     ]
    }
   ],
   "source": [
    "# Project to a suitable PCS (e.g., UTM Zone 18N)\n",
    "gdf = gdf.to_crs('EPSG:32618')  # UTM Zone 18N\n",
    "print(\"updated CRS is changed to UTM!\")"
   ]
  },
  {
   "cell_type": "code",
   "execution_count": 44,
   "id": "039f5a9c-f4b2-43cb-94e5-ecdf19baab98",
   "metadata": {},
   "outputs": [],
   "source": [
    "# Calculate areas in square meters\n",
    "gdf['area_sqm'] = gdf['geometry'].area"
   ]
  },
  {
   "cell_type": "markdown",
   "id": "413b4c2a-64cc-4e2b-81a4-8f20e37c4894",
   "metadata": {},
   "source": [
    "### Now I want to get an overview of the area column "
   ]
  },
  {
   "cell_type": "code",
   "execution_count": 45,
   "id": "4f532796-7a2b-44dc-9b21-d08fd09e3250",
   "metadata": {},
   "outputs": [
    {
     "name": "stdout",
     "output_type": "stream",
     "text": [
      "Number of NaN values in area_sqm: 0\n"
     ]
    }
   ],
   "source": [
    "# Check for NaN values\n",
    "nan_count = gdf['area_sqm'].isna().sum()\n",
    "print(f\"Number of NaN values in area_sqm: {nan_count}\")"
   ]
  },
  {
   "cell_type": "code",
   "execution_count": 46,
   "id": "789f5bff-6ee9-4c3d-b64d-0939c54675e4",
   "metadata": {},
   "outputs": [
    {
     "name": "stdout",
     "output_type": "stream",
     "text": [
      "Number of infinity values in area_sqm: 0\n"
     ]
    }
   ],
   "source": [
    "# Check for infinite values\n",
    "inf_count = np.isinf(gdf['area_sqm']).sum()\n",
    "print(f\"Number of infinity values in area_sqm: {inf_count}\")"
   ]
  },
  {
   "cell_type": "code",
   "execution_count": 47,
   "id": "8930fe5b-6cf7-421d-86fd-5af1f7b8afc4",
   "metadata": {},
   "outputs": [
    {
     "name": "stdout",
     "output_type": "stream",
     "text": [
      " min area: \u001b[1m20.03\u001b[0m sqm,\n",
      " 25th percentile: \u001b[1m63.94\u001b[0m sqm,\n",
      " median: \u001b[1m107.71\u001b[0m sqm, \n",
      " mean area: \u001b[1m199.54\u001b[0m sqm,\n",
      " 75th percentile: \u001b[1m185.72\u001b[0m sqm,\n",
      " max area: \u001b[1m104991.70\u001b[0m sqm. \n",
      " count of areas: \u001b[1m2208744.0\u001b[0m and\n",
      " standard deviation: \u001b[1m629.30\u001b[0m sqm.\n"
     ]
    }
   ],
   "source": [
    "# Get descriptive statistics\n",
    "area_description = gdf['area_sqm'].describe()\n",
    "\n",
    "count = area_description['count']\n",
    "mean = area_description['mean']\n",
    "std = area_description['std']\n",
    "min_area = area_description['min']\n",
    "percentile_25 = area_description['25%']\n",
    "median = area_description['50%']\n",
    "percentile_75 = area_description['75%']\n",
    "max_area = area_description['max']\n",
    "\n",
    "bold_start = \"\\033[1m\"\n",
    "bold_end = \"\\033[0m\"\n",
    "print(f\" min area: {bold_start}{min_area:.2f}{bold_end} sqm,\\n 25th percentile: {bold_start}{percentile_25:.2f}{bold_end} sqm,\\n median: {bold_start}{median:.2f}{bold_end} sqm, \"\n",
    "      f\"\\n mean area: {bold_start}{mean:.2f}{bold_end} sqm,\\n 75th percentile: {bold_start}{percentile_75:.2f}{bold_end} sqm,\\n max area: {bold_start}{max_area:.2f}{bold_end} sqm. \"\n",
    "      f\"\\n count of areas: {bold_start}{count}{bold_end} and\\n standard deviation: {bold_start}{std:.2f}{bold_end} sqm.\")"
   ]
  },
  {
   "cell_type": "code",
   "execution_count": 48,
   "id": "5bad42dd-96bd-4d46-941f-3b5c7f2e7825",
   "metadata": {},
   "outputs": [
    {
     "data": {
      "text/plain": [
       "552186"
      ]
     },
     "execution_count": 48,
     "metadata": {},
     "output_type": "execute_result"
    }
   ],
   "source": [
    "# Calculate 75th percentile\n",
    "percentile_75 = area_description['75%']\n",
    "# Count number of areas greater than 75th percentile\n",
    "count_greater_than_75th_percentile = gdf[gdf['area_sqm'] > percentile_75]['area_sqm'].count()\n",
    "count_greater_than_75th_percentile\n"
   ]
  },
  {
   "cell_type": "code",
   "execution_count": 49,
   "id": "0baa6f74-6e77-4ae4-8bcb-d4ffc4f992f4",
   "metadata": {},
   "outputs": [
    {
     "data": {
      "image/png": "[encoded data removed]",
      "text/plain": [
       "<Figure size 1000x600 with 1 Axes>"
      ]
     },
     "metadata": {},
     "output_type": "display_data"
    }
   ],
   "source": [
    "# Plot histogram of area_sqm\n",
    "threshold = 1200 \n",
    "gdf_filtered = gdf[gdf['area_sqm'] <= threshold]\n",
    "\n",
    "# Plot histogram of area_sqm\n",
    "plt.figure(figsize=(10, 6))\n",
    "plt.hist(gdf_filtered['area_sqm'], bins=20, edgecolor='black')\n",
    "plt.xlabel('Area (square meters)')\n",
    "plt.ylabel('Frequency')\n",
    "plt.title(f'Histogram of Areas Smaller than {threshold} sqm')\n",
    "plt.grid(False)\n",
    "plt.show()"
   ]
  },
  {
   "cell_type": "code",
   "execution_count": 50,
   "id": "3da99d12-3de4-4767-9495-128a919e19f7",
   "metadata": {},
   "outputs": [
    {
     "data": {
      "text/html": [
       "<div>\n",
       "<style scoped>\n",
       "    .dataframe tbody tr th:only-of-type {\n",
       "        vertical-align: middle;\n",
       "    }\n",
       "\n",
       "    .dataframe tbody tr th {\n",
       "        vertical-align: top;\n",
       "    }\n",
       "\n",
       "    .dataframe thead th {\n",
       "        text-align: right;\n",
       "    }\n",
       "</style>\n",
       "<table border=\"1\" class=\"dataframe\">\n",
       "  <thead>\n",
       "    <tr style=\"text-align: right;\">\n",
       "      <th></th>\n",
       "      <th>type</th>\n",
       "      <th>coordinates</th>\n",
       "      <th>geometry</th>\n",
       "      <th>area_sqm</th>\n",
       "    </tr>\n",
       "  </thead>\n",
       "  <tbody>\n",
       "    <tr>\n",
       "      <th>0</th>\n",
       "      <td>Polygon</td>\n",
       "      <td>[[[-71.19338272520449, -34.65094635030333], [-...</td>\n",
       "      <td>POLYGON ((848920.144 -3840931.451, 848919.504 ...</td>\n",
       "      <td>35.341827</td>\n",
       "    </tr>\n",
       "    <tr>\n",
       "      <th>1</th>\n",
       "      <td>Polygon</td>\n",
       "      <td>[[[-71.19872174402884, -34.91531312309422], [-...</td>\n",
       "      <td>POLYGON ((847318.445 -3870251.848, 847313.835 ...</td>\n",
       "      <td>26.867006</td>\n",
       "    </tr>\n",
       "    <tr>\n",
       "      <th>2</th>\n",
       "      <td>Polygon</td>\n",
       "      <td>[[[-71.22548658231268, -32.83440017652967], [-...</td>\n",
       "      <td>POLYGON ((853362.600 -3639245.347, 853351.873 ...</td>\n",
       "      <td>94.939074</td>\n",
       "    </tr>\n",
       "    <tr>\n",
       "      <th>3</th>\n",
       "      <td>Polygon</td>\n",
       "      <td>[[[-71.19820778002867, -34.76658383856646], [-...</td>\n",
       "      <td>POLYGON ((847992.058 -3853747.858, 847995.776 ...</td>\n",
       "      <td>140.662879</td>\n",
       "    </tr>\n",
       "    <tr>\n",
       "      <th>4</th>\n",
       "      <td>Polygon</td>\n",
       "      <td>[[[-71.22528620692486, -32.99065420576912], [-...</td>\n",
       "      <td>POLYGON ((852759.827 -3656583.617, 852765.594 ...</td>\n",
       "      <td>137.619832</td>\n",
       "    </tr>\n",
       "    <tr>\n",
       "      <th>...</th>\n",
       "      <td>...</td>\n",
       "      <td>...</td>\n",
       "      <td>...</td>\n",
       "      <td>...</td>\n",
       "    </tr>\n",
       "    <tr>\n",
       "      <th>2208739</th>\n",
       "      <td>Polygon</td>\n",
       "      <td>[[[-70.65303240440008, -33.54510264910624], [-...</td>\n",
       "      <td>POLYGON ((903712.015 -3720192.270, 903722.849 ...</td>\n",
       "      <td>345.377342</td>\n",
       "    </tr>\n",
       "    <tr>\n",
       "      <th>2208740</th>\n",
       "      <td>Polygon</td>\n",
       "      <td>[[[-70.65306764901648, -33.90179048282484], [-...</td>\n",
       "      <td>POLYGON ((902037.895 -3759783.140, 902026.697 ...</td>\n",
       "      <td>63.364102</td>\n",
       "    </tr>\n",
       "    <tr>\n",
       "      <th>2208741</th>\n",
       "      <td>Polygon</td>\n",
       "      <td>[[[-70.65258587707828, -33.39474639761417], [-...</td>\n",
       "      <td>POLYGON ((904453.227 -3703505.322, 904443.075 ...</td>\n",
       "      <td>545.113161</td>\n",
       "    </tr>\n",
       "    <tr>\n",
       "      <th>2208742</th>\n",
       "      <td>Polygon</td>\n",
       "      <td>[[[-70.6532105131193, -33.18350083204412], [-7...</td>\n",
       "      <td>POLYGON ((905373.290 -3680056.126, 905376.443 ...</td>\n",
       "      <td>49.038396</td>\n",
       "    </tr>\n",
       "    <tr>\n",
       "      <th>2208743</th>\n",
       "      <td>Polygon</td>\n",
       "      <td>[[[-70.6525620789975, -33.96395179478972], [-7...</td>\n",
       "      <td>POLYGON ((901791.872 -3766684.897, 901787.128 ...</td>\n",
       "      <td>66.803186</td>\n",
       "    </tr>\n",
       "  </tbody>\n",
       "</table>\n",
       "<p>2208744 rows × 4 columns</p>\n",
       "</div>"
      ],
      "text/plain": [
       "            type                                        coordinates  \\\n",
       "0        Polygon  [[[-71.19338272520449, -34.65094635030333], [-...   \n",
       "1        Polygon  [[[-71.19872174402884, -34.91531312309422], [-...   \n",
       "2        Polygon  [[[-71.22548658231268, -32.83440017652967], [-...   \n",
       "3        Polygon  [[[-71.19820778002867, -34.76658383856646], [-...   \n",
       "4        Polygon  [[[-71.22528620692486, -32.99065420576912], [-...   \n",
       "...          ...                                                ...   \n",
       "2208739  Polygon  [[[-70.65303240440008, -33.54510264910624], [-...   \n",
       "2208740  Polygon  [[[-70.65306764901648, -33.90179048282484], [-...   \n",
       "2208741  Polygon  [[[-70.65258587707828, -33.39474639761417], [-...   \n",
       "2208742  Polygon  [[[-70.6532105131193, -33.18350083204412], [-7...   \n",
       "2208743  Polygon  [[[-70.6525620789975, -33.96395179478972], [-7...   \n",
       "\n",
       "                                                  geometry    area_sqm  \n",
       "0        POLYGON ((848920.144 -3840931.451, 848919.504 ...   35.341827  \n",
       "1        POLYGON ((847318.445 -3870251.848, 847313.835 ...   26.867006  \n",
       "2        POLYGON ((853362.600 -3639245.347, 853351.873 ...   94.939074  \n",
       "3        POLYGON ((847992.058 -3853747.858, 847995.776 ...  140.662879  \n",
       "4        POLYGON ((852759.827 -3656583.617, 852765.594 ...  137.619832  \n",
       "...                                                    ...         ...  \n",
       "2208739  POLYGON ((903712.015 -3720192.270, 903722.849 ...  345.377342  \n",
       "2208740  POLYGON ((902037.895 -3759783.140, 902026.697 ...   63.364102  \n",
       "2208741  POLYGON ((904453.227 -3703505.322, 904443.075 ...  545.113161  \n",
       "2208742  POLYGON ((905373.290 -3680056.126, 905376.443 ...   49.038396  \n",
       "2208743  POLYGON ((901791.872 -3766684.897, 901787.128 ...   66.803186  \n",
       "\n",
       "[2208744 rows x 4 columns]"
      ]
     },
     "execution_count": 50,
     "metadata": {},
     "output_type": "execute_result"
    }
   ],
   "source": [
    "gdf"
   ]
  },
  {
   "cell_type": "markdown",
   "id": "88393ddb-1d94-4e2c-a294-99ee3e8cb081",
   "metadata": {},
   "source": [
    "## Step 6. Graphs !"
   ]
  },
  {
   "cell_type": "code",
   "execution_count": 51,
   "id": "5f1ebb92-b0d1-4e42-b0c9-a502e4ef4858",
   "metadata": {},
   "outputs": [
    {
     "name": "stdin",
     "output_type": "stream",
     "text": [
      "Enter the country abbreviation (e.g., ECU for Ecuador):  CHL\n"
     ]
    }
   ],
   "source": [
    "import geopandas as gpd\n",
    "\n",
    "country_abbreviation = input(\"Enter the country abbreviation (e.g., ECU for Ecuador): \").strip().upper()\n",
    "# Load the GADM shapefile for Ecuador (adjust the path to where you downloaded the file)\n",
    "file_path = rf'E:/2023/Natcat/gadm41_{country_abbreviation}_1.shp'\n",
    "provinces_gdf = gpd.read_file(file_path)"
   ]
  },
  {
   "cell_type": "code",
   "execution_count": 52,
   "id": "cc319cac-2e2e-4ee2-94ff-5155ab0d1a61",
   "metadata": {},
   "outputs": [],
   "source": [
    "# Ensure both GeoDataFrames have the same CRS\n",
    "provinces_gdf = provinces_gdf.to_crs(gdf.crs)\n"
   ]
  },
  {
   "cell_type": "code",
   "execution_count": 53,
   "id": "71b5d337-dcca-4c9a-be18-06b638ab8ffb",
   "metadata": {},
   "outputs": [
    {
     "name": "stdout",
     "output_type": "stream",
     "text": [
      "EPSG:32618\n",
      "EPSG:32618\n"
     ]
    }
   ],
   "source": [
    "print(provinces_gdf.crs)\n",
    "print(gdf.crs)"
   ]
  },
  {
   "cell_type": "code",
   "execution_count": 54,
   "id": "dbc38429-1416-4859-86bf-63582f160b67",
   "metadata": {},
   "outputs": [],
   "source": [
    "# sapitial join of the two dfs (it will allocate polygons to provinces)\n",
    "gdf_with_provinces = gpd.sjoin(gdf,  provinces_gdf, how='left', predicate='within')\n"
   ]
  },
  {
   "cell_type": "code",
   "execution_count": 55,
   "id": "acabaf65-fc3b-4af7-9f5d-2b6e6d209ab1",
   "metadata": {},
   "outputs": [
    {
     "data": {
      "text/plain": [
       "217"
      ]
     },
     "execution_count": 55,
     "metadata": {},
     "output_type": "execute_result"
    }
   ],
   "source": [
    "gdf_with_provinces['NAME_1'].isnull().sum()\n"
   ]
  },
  {
   "cell_type": "code",
   "execution_count": null,
   "id": "3fd2c5a6-e67f-41e8-a342-5fa3c0418fc6",
   "metadata": {},
   "outputs": [],
   "source": [
    "import unidecode\n",
    "def normalize_province_name(name):\n",
    "    if isinstance(name, str):\n",
    "        return unidecode.unidecode(name).lower()\n",
    "    else:\n",
    "        return name\n",
    "\n",
    "# Normalize the province names in the province GeoDataFrame\n",
    "#gdf_with_provinces['province_normalized'] = gdf_with_provinces['province_name'].apply(normalize_province_name)\n",
    "provinces_gdf['province_normalized'] = provinces_gdf['NAME_1'].apply(normalize_province_name)\n",
    "gdf_with_provinces['province_normalized'] = gdf_with_provinces['NAME_1'].apply(normalize_province_name)\n"
   ]
  },
  {
   "cell_type": "markdown",
   "id": "62352961-aac8-4148-ac40-83c05b901195",
   "metadata": {},
   "source": [
    "### Count the number of rows (polygons) in each province as the number of bldgs\n"
   ]
  },
  {
   "cell_type": "code",
   "execution_count": 56,
   "id": "6fd38df1-0b53-451b-8a75-5310415e1df1",
   "metadata": {},
   "outputs": [
    {
     "data": {
      "text/html": [
       "<div>\n",
       "<style scoped>\n",
       "    .dataframe tbody tr th:only-of-type {\n",
       "        vertical-align: middle;\n",
       "    }\n",
       "\n",
       "    .dataframe tbody tr th {\n",
       "        vertical-align: top;\n",
       "    }\n",
       "\n",
       "    .dataframe thead th {\n",
       "        text-align: right;\n",
       "    }\n",
       "</style>\n",
       "<table border=\"1\" class=\"dataframe\">\n",
       "  <thead>\n",
       "    <tr style=\"text-align: right;\">\n",
       "      <th></th>\n",
       "      <th>NAME_1</th>\n",
       "      <th>counts</th>\n",
       "      <th>area_sqm</th>\n",
       "    </tr>\n",
       "  </thead>\n",
       "  <tbody>\n",
       "    <tr>\n",
       "      <th>0</th>\n",
       "      <td>Arica y Parinacota</td>\n",
       "      <td>178</td>\n",
       "      <td>1.839231e+04</td>\n",
       "    </tr>\n",
       "    <tr>\n",
       "      <th>1</th>\n",
       "      <td>Libertador General Bernardo O'Hi</td>\n",
       "      <td>320319</td>\n",
       "      <td>5.756078e+07</td>\n",
       "    </tr>\n",
       "    <tr>\n",
       "      <th>2</th>\n",
       "      <td>Maule</td>\n",
       "      <td>90317</td>\n",
       "      <td>1.949176e+07</td>\n",
       "    </tr>\n",
       "    <tr>\n",
       "      <th>3</th>\n",
       "      <td>Santiago Metropolitan</td>\n",
       "      <td>1126887</td>\n",
       "      <td>2.557032e+08</td>\n",
       "    </tr>\n",
       "    <tr>\n",
       "      <th>4</th>\n",
       "      <td>Valparaíso</td>\n",
       "      <td>670826</td>\n",
       "      <td>1.078876e+08</td>\n",
       "    </tr>\n",
       "  </tbody>\n",
       "</table>\n",
       "</div>"
      ],
      "text/plain": [
       "                             NAME_1   counts      area_sqm\n",
       "0                Arica y Parinacota      178  1.839231e+04\n",
       "1  Libertador General Bernardo O'Hi   320319  5.756078e+07\n",
       "2                             Maule    90317  1.949176e+07\n",
       "3             Santiago Metropolitan  1126887  2.557032e+08\n",
       "4                        Valparaíso   670826  1.078876e+08"
      ]
     },
     "execution_count": 56,
     "metadata": {},
     "output_type": "execute_result"
    }
   ],
   "source": [
    "province_total_polygons = gdf_with_provinces.groupby('NAME_1').size().reset_index(name='counts')\n",
    "province_total_areas = gdf_with_provinces.groupby('NAME_1')['area_sqm'].sum().reset_index()\n",
    "\n",
    "ms_df = pd.merge(province_total_polygons, province_total_areas, on='NAME_1')\n",
    "ms_df"
   ]
  },
  {
   "cell_type": "code",
   "execution_count": 57,
   "id": "31915067-9cdc-4b10-935d-8c55f69a214e",
   "metadata": {},
   "outputs": [
    {
     "data": {
      "text/plain": [
       "2208527"
      ]
     },
     "execution_count": 57,
     "metadata": {},
     "output_type": "execute_result"
    }
   ],
   "source": [
    "ms_df['counts'].sum()"
   ]
  },
  {
   "cell_type": "code",
   "execution_count": 64,
   "id": "9f740b6f-018a-4fcf-9c3a-b612c424ae86",
   "metadata": {},
   "outputs": [
    {
     "data": {
      "text/html": [
       "<div>\n",
       "<style scoped>\n",
       "    .dataframe tbody tr th:only-of-type {\n",
       "        vertical-align: middle;\n",
       "    }\n",
       "\n",
       "    .dataframe tbody tr th {\n",
       "        vertical-align: top;\n",
       "    }\n",
       "\n",
       "    .dataframe thead th {\n",
       "        text-align: right;\n",
       "    }\n",
       "</style>\n",
       "<table border=\"1\" class=\"dataframe\">\n",
       "  <thead>\n",
       "    <tr style=\"text-align: right;\">\n",
       "      <th></th>\n",
       "      <th>province_name</th>\n",
       "      <th>counts</th>\n",
       "      <th>area_sqm</th>\n",
       "    </tr>\n",
       "  </thead>\n",
       "  <tbody>\n",
       "    <tr>\n",
       "      <th>0</th>\n",
       "      <td>Arica y Parinacota</td>\n",
       "      <td>178</td>\n",
       "      <td>1.839231e+04</td>\n",
       "    </tr>\n",
       "    <tr>\n",
       "      <th>1</th>\n",
       "      <td>Libertador General Bernardo O'Hi</td>\n",
       "      <td>320319</td>\n",
       "      <td>5.756078e+07</td>\n",
       "    </tr>\n",
       "    <tr>\n",
       "      <th>2</th>\n",
       "      <td>Maule</td>\n",
       "      <td>90317</td>\n",
       "      <td>1.949176e+07</td>\n",
       "    </tr>\n",
       "    <tr>\n",
       "      <th>3</th>\n",
       "      <td>Santiago Metropolitan</td>\n",
       "      <td>1126887</td>\n",
       "      <td>2.557032e+08</td>\n",
       "    </tr>\n",
       "    <tr>\n",
       "      <th>4</th>\n",
       "      <td>Valparaíso</td>\n",
       "      <td>670826</td>\n",
       "      <td>1.078876e+08</td>\n",
       "    </tr>\n",
       "  </tbody>\n",
       "</table>\n",
       "</div>"
      ],
      "text/plain": [
       "                      province_name   counts      area_sqm\n",
       "0                Arica y Parinacota      178  1.839231e+04\n",
       "1  Libertador General Bernardo O'Hi   320319  5.756078e+07\n",
       "2                             Maule    90317  1.949176e+07\n",
       "3             Santiago Metropolitan  1126887  2.557032e+08\n",
       "4                        Valparaíso   670826  1.078876e+08"
      ]
     },
     "execution_count": 64,
     "metadata": {},
     "output_type": "execute_result"
    }
   ],
   "source": [
    "ms_df = ms_df.rename(columns={'NAME_1': 'province_name'})\n",
    "ms_df.to_csv('chi_MS.csv', index=False)\n",
    "ms_df"
   ]
  },
  {
   "cell_type": "code",
   "execution_count": 60,
   "id": "93a17cd2-ccf5-47f2-8c0b-6a39c904d61e",
   "metadata": {},
   "outputs": [
    {
     "data": {
      "image/png": "[encoded data removed]",
      "text/plain": [
       "<Figure size 1000x600 with 1 Axes>"
      ]
     },
     "metadata": {},
     "output_type": "display_data"
    }
   ],
   "source": [
    "import matplotlib.pyplot as plt\n",
    "province_polygons_sorted = province_total_polygons.sort_values(by='counts', ascending=False)\n",
    "\n",
    "# Calculating frequencies\n",
    "total_polygons = province_polygons_sorted['counts'].sum()\n",
    "province_polygons_sorted['frequency'] = province_polygons_sorted['counts'] / total_polygons\n",
    "\n",
    "# Calculate cumulative frequencies\n",
    "province_polygons_sorted['cumulative_frequency'] = province_polygons_sorted['frequency'].cumsum()\n",
    "\n",
    "# Find index where cumulative frequency reaches 80%\n",
    "highlight_index = (province_polygons_sorted['cumulative_frequency'] <= 0.8).sum()\n",
    "\n",
    "# Plot Pareto histogram\n",
    "plt.figure(figsize=(10, 6))\n",
    "\n",
    "# Plot all bars\n",
    "plt.bar(province_polygons_sorted['NAME_1'], province_polygons_sorted['frequency'], color='blue')\n",
    "\n",
    "# Highlighting bars contributing to 80% cumulative frequency\n",
    "plt.bar(province_polygons_sorted['NAME_1'][:highlight_index], \n",
    "        province_polygons_sorted['frequency'][:highlight_index], \n",
    "        color='green')\n",
    "\n",
    "plt.title('Polygon Count by Province (Descending)')\n",
    "plt.xlabel('Province')\n",
    "plt.ylabel('Frequency')\n",
    "plt.xticks(rotation=45, ha='right')\n",
    "plt.gca().yaxis.grid(False)\n",
    "plt.gca().set_axisbelow(True)\n",
    "plt.tight_layout()\n",
    "plt.show()"
   ]
  },
  {
   "cell_type": "code",
   "execution_count": 61,
   "id": "897230b9-d473-4f68-b5c9-e9587db14036",
   "metadata": {},
   "outputs": [],
   "source": [
    "# Merge the counts with the province_name\n",
    "#merged_gdf = provinces_gdf.merge(ms_df, on='province_normalized')\n",
    "provinces_gdf = provinces_gdf.merge(ms_df, left_on='NAME_1', right_on='province_name', how='left')"
   ]
  },
  {
   "cell_type": "code",
   "execution_count": 62,
   "id": "4f82a1b6-0642-4078-acef-eba3ee88ffce",
   "metadata": {},
   "outputs": [],
   "source": [
    "# Fill NaN values in 'counts' with 0 \n",
    "provinces_gdf['counts'] = provinces_gdf['counts'].fillna(0)"
   ]
  },
  {
   "cell_type": "code",
   "execution_count": 63,
   "id": "d11e071a-5a09-4966-ae76-c647d5b03c85",
   "metadata": {},
   "outputs": [
    {
     "data": {
      "text/plain": [
       "<Figure size 1200x800 with 0 Axes>"
      ]
     },
     "metadata": {},
     "output_type": "display_data"
    },
    {
     "data": {
      "image/png": "[encoded data removed]",
      "text/plain": [
       "<Figure size 640x480 with 2 Axes>"
      ]
     },
     "metadata": {},
     "output_type": "display_data"
    }
   ],
   "source": [
    "plt.figure(figsize=(12, 8))\n",
    "provinces_gdf.plot(column='counts', cmap='viridis', legend=True,\n",
    "                   legend_kwds={'label': \"Number of Polygons\",\n",
    "                                'orientation': \"horizontal\"})\n",
    "plt.title('Number of Polygons per Province in Ecuador')\n",
    "plt.show()"
   ]
  },
  {
   "cell_type": "code",
   "execution_count": null,
   "id": "58cd42ac-ee57-4fb3-a175-c624cafe6ba8",
   "metadata": {},
   "outputs": [],
   "source": [
    "print(gdf.head())"
   ]
  }
 ],
 "metadata": {
  "kernelspec": {
   "display_name": "Python 3 (ipykernel)",
   "language": "python",
   "name": "python3"
  },
  "language_info": {
   "codemirror_mode": {
    "name": "ipython",
    "version": 3
   },
   "file_extension": ".py",
   "mimetype": "text/x-python",
   "name": "python",
   "nbconvert_exporter": "python",
   "pygments_lexer": "ipython3",
   "version": "3.11.7"
  }
 },
 "nbformat": 4,
 "nbformat_minor": 5
}
