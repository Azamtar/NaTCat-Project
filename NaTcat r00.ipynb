{
 "cells": [
  {
   "cell_type": "markdown",
   "id": "77beca32-9e0f-4efb-bb22-f419f6c1b828",
   "metadata": {},
   "source": [
    "# The goal is providing a comparative report on MS and GEM geo-data sets to analyse risks in terms of number of buildings and areas covered/ reported"
   ]
  },
  {
   "cell_type": "code",
   "execution_count": null,
   "id": "50531606-9ef6-4a6d-9050-44fe13821113",
   "metadata": {},
   "outputs": [],
   "source": [
    "import pandas as pd\n",
    "import geopandas as gpd\n",
    "from shapely.geometry import Polygon\n",
    "\n",
    "import requests\n",
    "import zipfile\n",
    "import os\n",
    "import json\n",
    "from shapely.geometry import shape\n",
    "from shapely.geometry import Polygon\n",
    "\n",
    "from pyproj import CRS"
   ]
  },
  {
   "cell_type": "markdown",
   "id": "3f4f1d76-5d2f-4924-93dc-25825b824cc5",
   "metadata": {},
   "source": [
    "## Step 1. Get the country name from user\n"
   ]
  },
  {
   "cell_type": "code",
   "execution_count": null,
   "id": "24af1abb-0d9e-4bcf-bfb9-4ef2193e8fd4",
   "metadata": {},
   "outputs": [],
   "source": [
    "country_name = input(\"Enter the name of the country: \")\n"
   ]
  },
  {
   "cell_type": "code",
   "execution_count": null,
   "id": "55116419-1b8f-4bc6-a265-693fa8a0a93b",
   "metadata": {},
   "outputs": [],
   "source": [
    "# creates file path \n",
    "\n",
    "file_name = f\"{country_name}.geojsonl\"\n",
    "base_dir =\"E:/2023/Natcat/\"\n",
    "\n",
    "geojsonl_file_path = os.path.join(base_dir, f\"{country_name}.geojsonl\")\n",
    "geojsonl_file_path"
   ]
  },
  {
   "cell_type": "markdown",
   "id": "bf45c53c-7a9f-461c-bbc6-caf3849ba0e4",
   "metadata": {},
   "source": [
    "## Step 2. Open the file and read its content line by line\n",
    "The data type is JSON which is more suitable for unstructured data like the one we have in this project"
   ]
  },
  {
   "cell_type": "code",
   "execution_count": null,
   "id": "76f03c52-fa38-4394-987f-ca61fa90a70e",
   "metadata": {},
   "outputs": [],
   "source": [
    "with open(geojsonl_file_path, 'r', encoding='utf-8') as file:\n",
    "    lines = file.readlines()"
   ]
  },
  {
   "cell_type": "markdown",
   "id": "02939abf-f855-4bb2-bfb8-05c9a2ea901d",
   "metadata": {},
   "source": [
    "The following line is used to read a JSON Lines (JSONL) file and convert its contents into a list of JSON objects (Python dictionaries). "
   ]
  },
  {
   "cell_type": "code",
   "execution_count": null,
   "id": "8d5c5aaa-5785-46c9-acd8-308a0860baa6",
   "metadata": {},
   "outputs": [],
   "source": [
    "json_data = [json.loads(line) for line in lines]"
   ]
  },
  {
   "cell_type": "markdown",
   "id": "2633e58f-d859-4741-b2a8-65f788e82585",
   "metadata": {},
   "source": [
    "## Step 3. Convert JSON objects to Pandas df\n",
    "is useful for turning complex JSON data structures into a more tabular form that can be easily analyzed and manipulated using Pandas.\n",
    "Obviously the df contains two columns type as being Polygon and Coordinates. In the next steps I delve into the data set and explore it. "
   ]
  },
  {
   "cell_type": "code",
   "execution_count": null,
   "id": "e91a2657-a1a7-41df-8e0b-9ed602548a89",
   "metadata": {
    "scrolled": true
   },
   "outputs": [],
   "source": [
    "df = pd.json_normalize(json_data)\n",
    "df.head(3)"
   ]
  },
  {
   "cell_type": "markdown",
   "id": "0129e7f0-54a3-4586-94c1-2247d0d740e4",
   "metadata": {},
   "source": [
    "## Step 4. Exploring the df\n",
    "Shape (size of df), number of unique entries (nunique) and so on"
   ]
  },
  {
   "cell_type": "code",
   "execution_count": null,
   "id": "5dc73c41-ad41-446a-8f72-e8633944020d",
   "metadata": {},
   "outputs": [],
   "source": [
    "df.tail(3)"
   ]
  },
  {
   "cell_type": "code",
   "execution_count": null,
   "id": "98c759c0-7617-4e4a-9106-b178a626177c",
   "metadata": {},
   "outputs": [],
   "source": [
    "df.shape"
   ]
  },
  {
   "cell_type": "markdown",
   "id": "6920d04b-ce56-47ef-a14f-d9ccd6875847",
   "metadata": {},
   "source": [
    "Now checking if duplicates exist in data frame!"
   ]
  },
  {
   "cell_type": "markdown",
   "id": "20e89758-6edd-44bb-817d-ec433078db4f",
   "metadata": {},
   "source": [
    "The elements in the coordinates column are lists, which are mutable and therefore unhashable. The nunique function tries to use the elements of the column as keys in a dictionary (to count unique elements), but lists cannot be used as dictionary keys due to their unhashable nature. To work around this, I have converted the lists to tuples (which are immutable and hashable) before applying the nunique method."
   ]
  },
  {
   "cell_type": "code",
   "execution_count": null,
   "id": "022cfd83-89df-4d70-82f4-6039093bdb9c",
   "metadata": {},
   "outputs": [],
   "source": [
    "def convert_to_tuple(item):\n",
    "    if isinstance(item, list):\n",
    "        return tuple(convert_to_tuple(sub_item) for sub_item in item)\n",
    "    return item\n",
    "    \n",
    "df['coordinates_tuple'] = df['coordinates'].apply(convert_to_tuple)"
   ]
  },
  {
   "cell_type": "code",
   "execution_count": null,
   "id": "67ac20b7-1d7f-4a23-8214-60377e8c1d10",
   "metadata": {},
   "outputs": [],
   "source": [
    "df['coordinates_tuple'].nunique()"
   ]
  },
  {
   "cell_type": "markdown",
   "id": "12140b22-44e2-416a-8cf4-9b17483e27b9",
   "metadata": {},
   "source": [
    "## Step 5. Converting coordinates to Polygons and getting areas\n",
    "The generated Polygons are stored in a new column called 'geometry' in the data-frame. \n",
    "Below Polygon centroids is determined,  coordinates transformed to UTM and areas calculated.\n",
    "Coordinate Representation: Geographic coordinates (WGS84) use angles (degrees) to represent positions on a spherical surface.\n",
    "Projected coordinates (UTM) use Cartesian coordinates (easting and northing) to represent positions on a flat surface."
   ]
  },
  {
   "cell_type": "code",
   "execution_count": null,
   "id": "4d5cf7ea-d840-4e66-821a-980b81aaee42",
   "metadata": {},
   "outputs": [],
   "source": [
    "# Convert coordinates to Polygon objects\n",
    "df['geometry'] = df['coordinates'].apply(lambda x: Polygon(x[0]))"
   ]
  },
  {
   "cell_type": "code",
   "execution_count": null,
   "id": "96996cfd-615b-4249-8696-c701face7282",
   "metadata": {},
   "outputs": [],
   "source": [
    "# Create a GeoDataFrame\n",
    "gdf = gpd.GeoDataFrame(df, geometry='geometry')\n",
    "\n",
    "# Set the coordinate reference system (CRS) to WGS84\n",
    "gdf.set_crs(epsg=4326, inplace=True)"
   ]
  },
  {
   "cell_type": "code",
   "execution_count": null,
   "id": "ce7d24b9-5c7c-4872-9bd8-00e715055289",
   "metadata": {},
   "outputs": [],
   "source": [
    "# Function to calculate UTM zone based on longitude\n",
    "def utm_zone(longitude):\n",
    "    return int((longitude + 180) / 6) + 1\n"
   ]
  },
  {
   "cell_type": "code",
   "execution_count": null,
   "id": "da9487b7-53bf-46f2-9ac6-12939f5eb58d",
   "metadata": {},
   "outputs": [],
   "source": [
    "# Function to generate UTM CRS for a given longitude\n",
    "def get_utm_crs(longitude):\n",
    "    zone = utm_zone(longitude)\n",
    "    return f\"+proj=utm +zone={zone} +datum=WGS84 +units=m +no_defs\"\n"
   ]
  },
  {
   "cell_type": "code",
   "execution_count": null,
   "id": "4034ffe7-3477-4f3f-8de2-b70c1035444c",
   "metadata": {},
   "outputs": [],
   "source": [
    "# Calculate area in square meters\n",
    "def calculate_area_in_sq_meters(gdf):\n",
    "    areas = []\n",
    "    for index, row in gdf.iterrows():\n",
    "        utm_crs = get_utm_crs(row['geometry'].centroid.x)\n",
    "        gdf_utm = gdf.to_crs(utm_crs)\n",
    "        area = gdf_utm.at[index, 'geometry'].area\n",
    "        areas.append(area)\n",
    "    return areas"
   ]
  },
  {
   "cell_type": "code",
   "execution_count": null,
   "id": "cdb80797-3cd2-4c6c-8177-7c722d0c8f6f",
   "metadata": {},
   "outputs": [],
   "source": [
    "# Calculate area and add it to the GeoDataFrame\n",
    "gdf['area_sq_meters'] = calculate_area_in_sq_meters(gdf)\n",
    "\n",
    "# Display the GeoDataFrame with areas\n",
    "print(gdf[['geometry', 'area_sq_meters']])"
   ]
  },
  {
   "cell_type": "markdown",
   "id": "88393ddb-1d94-4e2c-a294-99ee3e8cb081",
   "metadata": {},
   "source": [
    "## Step 6. Graphs !"
   ]
  },
  {
   "cell_type": "code",
   "execution_count": null,
   "id": "84d3d96a-a6e6-4569-b948-6cb029721851",
   "metadata": {},
   "outputs": [],
   "source": [
    "gdf[['area_sqm']].head()"
   ]
  },
  {
   "cell_type": "code",
   "execution_count": null,
   "id": "0fa9ef5a-5c36-448e-9013-2e69f7e9e7f3",
   "metadata": {},
   "outputs": [],
   "source": [
    "print(\"Mean:\\n\", gdf[['area_sqm']].mean())\n",
    "print(\"Median:\\n\", gdf[['area_sqm']].median())\n",
    "#print(\"Mode:\\n\", gdf[['area_sqm']].mode())\n",
    "print(\"Variance:\\n\", gdf[['area_sqm']].var())\n",
    "print(\"Standard Deviation:\\n\", gdf[['area_sqm']].std())\n",
    "print(\"Skewness:\\n\", gdf[['area_sqm']].skew())\n",
    "print(\"Kurtosis:\\n\", gdf[['area_sqm']].kurtosis())"
   ]
  },
  {
   "cell_type": "code",
   "execution_count": null,
   "id": "52900887-e1a5-4f1f-b8a0-0c55856708a5",
   "metadata": {},
   "outputs": [],
   "source": [
    "print(len(gdf[['area_sqm']]))"
   ]
  },
  {
   "cell_type": "code",
   "execution_count": null,
   "id": "2d0e94d9-8f4f-4093-9ea4-5c35f6c79f3b",
   "metadata": {},
   "outputs": [],
   "source": [
    "import matplotlib.pyplot as plt\n",
    "# Filter rows where area_sqm < 10000\n",
    "filtered_gdf = gdf[gdf['area_sqm'] < 1000]\n",
    "\n",
    "# Plot histogram\n",
    "plt.hist(filtered_gdf['area_sqm'], bins=20, color='blue', edgecolor='black')\n",
    "plt.title('Histogram of Area (Sq. Meters)')\n",
    "plt.xlabel('Area (Sq. Meters)')\n",
    "plt.ylabel('Frequency')\n",
    "plt.grid(True)\n",
    "plt.show()"
   ]
  },
  {
   "cell_type": "code",
   "execution_count": null,
   "id": "548d5749-f77c-4602-b265-d6299c1238d9",
   "metadata": {},
   "outputs": [],
   "source": [
    "gdf[['type', 'coordinates', 'area_sqm']].head()"
   ]
  },
  {
   "cell_type": "code",
   "execution_count": null,
   "id": "5f1ebb92-b0d1-4e42-b0c9-a502e4ef4858",
   "metadata": {},
   "outputs": [],
   "source": [
    "import geopandas as gpd\n",
    "\n",
    "country_abbreviation = input(\"Enter the country abbreviation (e.g., ECU for Ecuador): \").strip().upper()\n",
    "# Load the GADM shapefile for Ecuador (adjust the path to where you downloaded the file)\n",
    "file_path = rf'E:/2023/Natcat/gadm41_{country_abbreviation}_1.shp'\n",
    "provinces_gdf = gpd.read_file(file_path)\n",
    "# Ensure both GeoDataFrames have the same CRS\n",
    "provinces_gdf = provinces_gdf.to_crs(gdf.crs)"
   ]
  },
  {
   "cell_type": "code",
   "execution_count": null,
   "id": "1dbe0414-4776-46fe-9697-b65444edb315",
   "metadata": {},
   "outputs": [],
   "source": [
    "provinces_gdf.head()"
   ]
  },
  {
   "cell_type": "code",
   "execution_count": null,
   "id": "92a36205-69c1-47cc-8f94-f94578a01716",
   "metadata": {},
   "outputs": [],
   "source": [
    "import pandas as pd\n",
    "import geopandas as gpd\n",
    "from shapely.geometry import Polygon"
   ]
  },
  {
   "cell_type": "code",
   "execution_count": null,
   "id": "dbc38429-1416-4859-86bf-63582f160b67",
   "metadata": {},
   "outputs": [],
   "source": [
    "# Merging two dfs\n",
    "gdf_with_provinces = gpd.sjoin(gdf, provinces_gdf, how=\"left\", predicate=\"within\")"
   ]
  },
  {
   "cell_type": "code",
   "execution_count": null,
   "id": "fa13f113-3410-4c77-896d-618fc5d82a94",
   "metadata": {},
   "outputs": [],
   "source": [
    "gdf_with_provinces = gdf_with_provinces.rename(columns={'NAME_1': 'province_name'})"
   ]
  },
  {
   "cell_type": "code",
   "execution_count": null,
   "id": "acabaf65-fc3b-4af7-9f5d-2b6e6d209ab1",
   "metadata": {},
   "outputs": [],
   "source": [
    "print(gdf_with_provinces[['type', 'coordinates', 'province_name']].head())"
   ]
  },
  {
   "cell_type": "code",
   "execution_count": null,
   "id": "2c828c93-b8b6-4ac2-8d44-91f0a3259667",
   "metadata": {},
   "outputs": [],
   "source": [
    "# Count the number of rows (polygons) in each province as the number of blgs\n",
    "province_counts = gdf_with_provinces.groupby('province_name').size().reset_index(name='counts')\n",
    "\n",
    "\n",
    "# Display the counts\n",
    "print(province_counts)"
   ]
  },
  {
   "cell_type": "code",
   "execution_count": null,
   "id": "7d56f12f-8920-4d71-9b48-453306410baa",
   "metadata": {},
   "outputs": [],
   "source": [
    "gdf_with_provinces = gpd.sjoin(gdf, provinces_gdf, how=\"left\", predicate=\"within\")"
   ]
  },
  {
   "cell_type": "code",
   "execution_count": null,
   "id": "e1903f46-018a-4167-93b5-61e7d03f38c9",
   "metadata": {},
   "outputs": [],
   "source": [
    "gem_df = normalize_province_names(gem_df, 'province')\n",
    "ms_df = normalize_province_names(ms_df, 'province')"
   ]
  },
  {
   "cell_type": "code",
   "execution_count": null,
   "id": "ffb0900e-3182-4881-bb83-49fdc12fec11",
   "metadata": {},
   "outputs": [],
   "source": [
    "province_counts = gdf_with_provinces.groupby('NAME_1').size().reset_index(name='counts')\n",
    "province_areas = gdf_with_provinces.groupby('NAME_1')['area_sqm'].sum().reset_index()\n",
    "\n",
    "merged_df = pd.merge(province_counts, province_areas, on='NAME_1')\n",
    "merged_df.rename(columns={'NAME_1': 'province_name'}, inplace=True)\n",
    "merged_df.to_csv('ecu_MS.csv', index=False)\n",
    "\n",
    "\n",
    "#gdf_with_provinces[['NAME_1', 'area_sqm']] (I have to change NAME_1 to name of the province!\n",
    "merged_df"
   ]
  },
  {
   "cell_type": "code",
   "execution_count": null,
   "id": "acac43b4-86bd-4433-99f4-c0b40fbce4e0",
   "metadata": {},
   "outputs": [],
   "source": [
    "gdf_with_provinces"
   ]
  },
  {
   "cell_type": "code",
   "execution_count": null,
   "id": "93a17cd2-ccf5-47f2-8c0b-6a39c904d61e",
   "metadata": {},
   "outputs": [],
   "source": [
    "import matplotlib.pyplot as plt\n",
    "province_counts_sorted = province_counts.sort_values(by='counts', ascending=False)\n",
    "\n",
    "# Calculating frequencies\n",
    "total_polygons = province_counts_sorted['counts'].sum()\n",
    "province_counts_sorted['frequency'] = province_counts_sorted['counts'] / total_polygons\n",
    "\n",
    "# Calculate cumulative frequencies\n",
    "province_counts_sorted['cumulative_frequency'] = province_counts_sorted['frequency'].cumsum()\n",
    "\n",
    "# Find index where cumulative frequency reaches 80%\n",
    "highlight_index = (province_counts_sorted['cumulative_frequency'] <= 0.8).sum()\n",
    "\n",
    "# Plot Pareto histogram\n",
    "plt.figure(figsize=(10, 6))\n",
    "\n",
    "# Plot all bars\n",
    "plt.bar(province_counts_sorted['province_name'], province_counts_sorted['frequency'], color='blue')\n",
    "\n",
    "# Highlighting bars contributing to 80% cumulative frequency\n",
    "plt.bar(province_counts_sorted['province_name'][:highlight_index], \n",
    "        province_counts_sorted['frequency'][:highlight_index], \n",
    "        color='green')\n",
    "\n",
    "plt.title('Polygon Count by Province (Descending)')\n",
    "plt.xlabel('Province')\n",
    "plt.ylabel('Frequency')\n",
    "plt.xticks(rotation=45, ha='right')\n",
    "plt.gca().yaxis.grid(True, linestyle='--', alpha=0.5)\n",
    "plt.gca().set_axisbelow(True)\n",
    "plt.tight_layout()\n",
    "plt.show()"
   ]
  },
  {
   "cell_type": "code",
   "execution_count": null,
   "id": "897230b9-d473-4f68-b5c9-e9587db14036",
   "metadata": {},
   "outputs": [],
   "source": [
    "# Merge the counts with the province_name\n",
    "provinces_gdf = provinces_gdf.merge(province_counts, left_on='NAME_1', right_on='province_name', how='left')\n"
   ]
  },
  {
   "cell_type": "code",
   "execution_count": null,
   "id": "32594d17-d689-4d30-bcac-9441bf2fb07d",
   "metadata": {},
   "outputs": [],
   "source": [
    "provinces_gdf"
   ]
  },
  {
   "cell_type": "code",
   "execution_count": null,
   "id": "4f82a1b6-0642-4078-acef-eba3ee88ffce",
   "metadata": {},
   "outputs": [],
   "source": [
    "# Fill NaN values in 'counts' with 0 \n",
    "provinces_gdf['counts'] = provinces_gdf['counts'].fillna(0)"
   ]
  },
  {
   "cell_type": "code",
   "execution_count": null,
   "id": "d11e071a-5a09-4966-ae76-c647d5b03c85",
   "metadata": {},
   "outputs": [],
   "source": [
    "plt.figure(figsize=(12, 8))\n",
    "provinces_gdf.plot(column='counts', cmap='viridis', legend=True,\n",
    "                   legend_kwds={'label': \"Number of Polygons\",\n",
    "                                'orientation': \"horizontal\"})\n",
    "plt.title('Number of Polygons per Province in Ecuador')\n",
    "plt.show()"
   ]
  },
  {
   "cell_type": "code",
   "execution_count": null,
   "id": "58cd42ac-ee57-4fb3-a175-c624cafe6ba8",
   "metadata": {},
   "outputs": [],
   "source": [
    "print(gdf.head())"
   ]
  }
 ],
 "metadata": {
  "kernelspec": {
   "display_name": "Python 3 (ipykernel)",
   "language": "python",
   "name": "python3"
  },
  "language_info": {
   "codemirror_mode": {
    "name": "ipython",
    "version": 3
   },
   "file_extension": ".py",
   "mimetype": "text/x-python",
   "name": "python",
   "nbconvert_exporter": "python",
   "pygments_lexer": "ipython3",
   "version": "3.11.7"
  }
 },
 "nbformat": 4,
 "nbformat_minor": 5
}
